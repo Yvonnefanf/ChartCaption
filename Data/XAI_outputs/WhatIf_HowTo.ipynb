{
 "cells": [
  {
   "cell_type": "code",
   "execution_count": 2,
   "metadata": {},
   "outputs": [],
   "source": [
    "import shap\n",
    "import xgboost\n",
    "# train XGBoost model\n",
    "X, y = shap.datasets.adult(n_points=2000)\n",
    "model = xgboost.XGBClassifier().fit(X, y)\n",
    "\n",
    "\n",
    "# compute SHAP values\n",
    "explainer = shap.Explainer(model, X)\n",
    "shap_values = explainer(X)\n",
    "shap.plots.bar(shap_values,max_display=12)\n",
    "\n",
    "y_binary = [1 if income == True else 0 for income in y]\n",
    "predict = model.predict(X)\n",
    "Wrong_pred = []\n",
    "for i in range(len(predict)):\n",
    "    if predict[i] != y_binary[i]:\n",
    "        Wrong_pred.append(i)\n",
    "len(Wrong_pred)"
   ]
  }
 ],
 "metadata": {
  "kernelspec": {
   "display_name": "llama",
   "language": "python",
   "name": "python3"
  },
  "language_info": {
   "codemirror_mode": {
    "name": "ipython",
    "version": 3
   },
   "file_extension": ".py",
   "mimetype": "text/x-python",
   "name": "python",
   "nbconvert_exporter": "python",
   "pygments_lexer": "ipython3",
   "version": "3.12.3"
  }
 },
 "nbformat": 4,
 "nbformat_minor": 2
}
